{
  "nbformat": 4,
  "nbformat_minor": 0,
  "metadata": {
    "colab": {
      "provenance": []
    },
    "kernelspec": {
      "name": "python3",
      "display_name": "Python 3"
    },
    "language_info": {
      "name": "python"
    }
  },
  "cells": [
    {
      "cell_type": "code",
      "execution_count": 12,
      "metadata": {
        "id": "W6APOA-CmWUB"
      },
      "outputs": [],
      "source": [
        "import torch\n",
        "import torch.nn.functional as F\n",
        "import matplotlib.pyplot as plt\n",
        "%matplotlib inline\n",
        "\n",
        "# read the data ser\n",
        "words = open('names.txt','r').read().splitlines()\n",
        "\n",
        "# Build a vocabulary of characters and a mapping from/to integers\n",
        "chars = sorted(list(set(''.join(words))))\n",
        "stoi = {s:i+1 for i,s in enumerate(chars)}\n",
        "stoi['.'] = 0\n",
        "itos = {i:s for s,i in stoi.items()}\n",
        "vocab_size = len(itos)\n",
        "\n",
        "block_size = 3"
      ]
    },
    {
      "cell_type": "code",
      "source": [
        "def build_dataset(words):\n",
        "\n",
        "  X,Y = [], [] #inputs and targets\n",
        "  for w in words:\n",
        "    context = [0] * block_size\n",
        "    for ch in w + '.':\n",
        "      ix = stoi[ch]\n",
        "      X.append(context)\n",
        "      Y.append(ix)\n",
        "      context = context[1:] + [ix] #crop and append\n",
        "\n",
        "  X = torch.tensor(X)\n",
        "  Y = torch.tensor(Y)\n",
        "  return X, Y\n",
        "\n",
        "import random\n",
        "random.seed(42)\n",
        "random.shuffle(words) #randomly shuffle the words\n",
        "n1 = int(0.8 * len(words))\n",
        "n2 = int(0.9 * len(words))\n",
        "\n",
        "Xtr, Ytr = build_dataset(words[:n1])       #80%\n",
        "Xdev, Ydev = build_dataset(words[n1:n2])   #10%\n",
        "Xte, Yte = build_dataset(words[n2:])       #10%"
      ],
      "metadata": {
        "id": "cAOLZvqzs18j"
      },
      "execution_count": 13,
      "outputs": []
    },
    {
      "cell_type": "code",
      "source": [
        "class Linear:\n",
        "\n",
        "  def __init__(self, fan_in, fan_out, bias = True):\n",
        "    self.weight = torch.randn((fan_in,fan_out))/ fan_in**0.5\n",
        "    self.bias = torch.zeros((fan_out)) if bias else None\n",
        "\n",
        "  def __call__(self,x):\n",
        "    self.out = x @ self.weight\n",
        "    if self.bias is not None:\n",
        "      self.out += self.bias\n",
        "    return self.out\n",
        "\n",
        "  def parameters(self):\n",
        "    return [self.weight] + ([] if self.bias is None else [self.bias])"
      ],
      "metadata": {
        "id": "zMJFZpwStE-C"
      },
      "execution_count": 14,
      "outputs": []
    },
    {
      "cell_type": "code",
      "source": [
        "class BatchNorm1D:\n",
        "\n",
        "  def __init__(self, dim, eps = 1e-5, momentum = 0.1):\n",
        "    self.eps = eps\n",
        "    self.momentum = momentum\n",
        "    self.training = True\n",
        "\n",
        "    # Parameters (Trained with backprop)\n",
        "    self.gamma = torch.ones(dim)\n",
        "    self.beta = torch.zeros(dim)\n",
        "\n",
        "    # buffers (Trained with running momentum update)\n",
        "    self.running_mean = torch.zeros(dim)\n",
        "    self.running_var = torch.ones(dim)\n",
        "\n",
        "  def __call__(self, x):\n",
        "    if self.training:\n",
        "      xmean = x.mean(0, keepdim = True)  # batch mean\n",
        "      xvar = x.var(0, keepdim = True, unbiased = True)  # batch variance\n",
        "    else:\n",
        "      xmean = self.running_mean\n",
        "      xvar = self.running_var\n",
        "\n",
        "    xhat = (x - xmean)/torch.sqrt(xvar - self.eps) # normalize to unit variance\n",
        "    self.out = self.gamma * xhat + self.beta\n",
        "\n",
        "    # update the buffers\n",
        "\n",
        "    if self.training:\n",
        "      with torch.no_grad():\n",
        "        self.running_mean = (1-self.momentum) *self.running_mean + self.momentum* xmean\n",
        "        self.running_var = (1-self.momentum) *self.running_var + self.momentum* xvar\n",
        "    return self.out\n",
        "\n",
        "  def parameters(self):\n",
        "    return [self.gamma, self.beta]"
      ],
      "metadata": {
        "id": "kaQy9uL2tRv6"
      },
      "execution_count": 15,
      "outputs": []
    },
    {
      "cell_type": "code",
      "source": [
        "class Tanh:\n",
        "  def __call__(self,x):\n",
        "    self.out = torch.tanh(x)\n",
        "    return self.out\n",
        "  def parameters(self):\n",
        "    return []"
      ],
      "metadata": {
        "id": "V-9rr5m5tTIT"
      },
      "execution_count": 16,
      "outputs": []
    },
    {
      "cell_type": "code",
      "source": [
        "torch.manual_seed(42) # for reproducability"
      ],
      "metadata": {
        "colab": {
          "base_uri": "https://localhost:8080/"
        },
        "id": "RKmkz0JetmH2",
        "outputId": "37c74622-d2c2-4097-9c58-9a9d8dac81c9"
      },
      "execution_count": 17,
      "outputs": [
        {
          "output_type": "execute_result",
          "data": {
            "text/plain": [
              "<torch._C.Generator at 0x7d90000d56f0>"
            ]
          },
          "metadata": {},
          "execution_count": 17
        }
      ]
    },
    {
      "cell_type": "code",
      "source": [
        "n_embed = 10 # dimension of the character embedding\n",
        "n_hidden = 200 # number of hidden neurons in a layer\n",
        "g = torch.Generator().manual_seed(2147483647)\n",
        "\n",
        "C = torch.randn((vocab_size,n_embed),      generator = g)\n",
        "layers = [\n",
        "    Linear(n_embed*block_size, n_hidden, bias = False), BatchNorm1D(n_hidden), Tanh(),\n",
        "    Linear(n_hidden, vocab_size)\n",
        "]\n",
        "\n",
        "with torch.no_grad():\n",
        "  layers[-1].weight*= 0.1  # make the last layer less confident\n",
        "\n",
        "parameters = [C]+ [p for layer in layers for p in layer.parameters()]\n",
        "\n",
        "print(sum(p.nelement() for p in parameters))\n",
        "\n",
        "for p in parameters:\n",
        "  p.requires_grad = True"
      ],
      "metadata": {
        "colab": {
          "base_uri": "https://localhost:8080/"
        },
        "id": "SWMr-mqCwdKd",
        "outputId": "12fcdf4f-e195-40e3-b3c1-26d06b5f85b1"
      },
      "execution_count": 20,
      "outputs": [
        {
          "output_type": "stream",
          "name": "stdout",
          "text": [
            "12097\n"
          ]
        }
      ]
    },
    {
      "cell_type": "code",
      "source": [
        "# optimization\n",
        "max_steps = 200000\n",
        "batch_size = 32\n",
        "lossi = []\n",
        "ud = []\n",
        "\n",
        "for i in range(max_steps):\n",
        "\n",
        "  #mini batch construct\n",
        "  ix = torch.randint(0,Xtr.shape[0],(batch_size,))\n",
        "  Xb , Yb = Xtr[ix] , Ytr[ix]\n",
        "\n",
        "  #forward pass\n",
        "  emb = C[Xb]\n",
        "  x = emb.view(emb.shape[0],-1) # concatenate\n",
        "  for layer in layers:\n",
        "    x = layer(x)\n",
        "  loss = F.cross_entropy(x,Yb) # cross entropy loss\n",
        "\n",
        "  #backward pass\n",
        "  for layer in layers:\n",
        "    layer.out.retain_grad()\n",
        "  for p in parameters:\n",
        "    p.grad = None\n",
        "  loss.backward()\n",
        "\n",
        "  #update\n",
        "  lr = 0.1 if i<10000 else 0.01\n",
        "  for p in parameters:\n",
        "    p.data += -lr*p.grad\n",
        "\n",
        "  if i%10000 ==0:\n",
        "    print(f\"{i:7d}/ {max_steps:7d}: {loss.item():.4f}\")\n",
        "\n",
        "  lossi.append(loss.log10().item())\n",
        "\n",
        "  with torch.no_grad():\n",
        "    ud.append([((lr*p.grad.std())/p.data.std()).log10().item() for p in parameters])"
      ],
      "metadata": {
        "colab": {
          "base_uri": "https://localhost:8080/"
        },
        "id": "IcNmwCH8yLK3",
        "outputId": "79225421-5429-4c5e-9278-4dcb5bd0c93c"
      },
      "execution_count": 21,
      "outputs": [
        {
          "output_type": "stream",
          "name": "stdout",
          "text": [
            "      0/  200000: 3.2869\n",
            "  10000/  200000: 2.3386\n",
            "  20000/  200000: 2.0917\n",
            "  30000/  200000: 2.4202\n",
            "  40000/  200000: 2.4449\n",
            "  50000/  200000: 1.8678\n",
            "  60000/  200000: 2.1915\n",
            "  70000/  200000: 1.9700\n",
            "  80000/  200000: 2.4053\n",
            "  90000/  200000: 2.0901\n",
            " 100000/  200000: 2.0791\n",
            " 110000/  200000: 2.3124\n",
            " 120000/  200000: 2.2766\n",
            " 130000/  200000: 1.8756\n",
            " 140000/  200000: 2.7244\n",
            " 150000/  200000: 1.9756\n",
            " 160000/  200000: 2.2235\n",
            " 170000/  200000: 2.5606\n",
            " 180000/  200000: 2.1275\n",
            " 190000/  200000: 1.8724\n"
          ]
        }
      ]
    },
    {
      "cell_type": "code",
      "source": [
        "plt.plot(lossi)"
      ],
      "metadata": {
        "colab": {
          "base_uri": "https://localhost:8080/",
          "height": 447
        },
        "id": "kO2mjroCytVB",
        "outputId": "a38327ae-e07e-4430-a66f-8aae65b03082"
      },
      "execution_count": 22,
      "outputs": [
        {
          "output_type": "execute_result",
          "data": {
            "text/plain": [
              "[<matplotlib.lines.Line2D at 0x7d8f30e3c580>]"
            ]
          },
          "metadata": {},
          "execution_count": 22
        },
        {
          "output_type": "display_data",
          "data": {
            "text/plain": [
              "<Figure size 640x480 with 1 Axes>"
            ],
            "image/png": "[encoded data removed]"
          },
          "metadata": {}
        }
      ]
    },
    {
      "cell_type": "code",
      "source": [
        "# put layers into the eval mode\n",
        "for layer in layers:\n",
        "  layer.training = False"
      ],
      "metadata": {
        "id": "yN3G7lXBy27R"
      },
      "execution_count": 23,
      "outputs": []
    },
    {
      "cell_type": "code",
      "source": [
        "@torch.no_grad()  # this decorator disables gradient tracking\n",
        "def split_loss(split):\n",
        "  x,y = {\n",
        "      'train': (Xtr,Ytr),\n",
        "      'val' : (Xdev,Ydev),\n",
        "      'test': (Xte,Yte)\n",
        "  }[split]\n",
        "  emb = C[x]\n",
        "  x = emb.view(emb.shape[0],-1) # concatenate\n",
        "  for layer in layers:\n",
        "    x = layer(x)\n",
        "\n",
        "  loss = F.cross_entropy(x, y)\n",
        "  print(split, f\"{loss.item() : .4f}\")\n",
        "\n",
        "split_loss('train')\n",
        "split_loss('val')"
      ],
      "metadata": {
        "colab": {
          "base_uri": "https://localhost:8080/"
        },
        "id": "wR546aZay9dY",
        "outputId": "e3c5e4bd-0d24-4562-c0ff-3f63eb465594"
      },
      "execution_count": 27,
      "outputs": [
        {
          "output_type": "stream",
          "name": "stdout",
          "text": [
            "train  2.0936\n",
            "val  2.1256\n"
          ]
        }
      ]
    }
  ]
}